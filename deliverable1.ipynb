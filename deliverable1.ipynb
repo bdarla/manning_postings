{
 "cells": [
  {
   "cell_type": "code",
   "execution_count": 1,
   "metadata": {},
   "outputs": [
    {
     "name": "stdout",
     "output_type": "stream",
     "text": [
      "1337\n",
      "1329\n",
      "                                               title  \\\n",
      "0            Quantitative Analyst - Boston, MA 02116   \n",
      "1                 Data Scientist - Mountain View, CA   \n",
      "2                       Data Scientist - Seattle, WA   \n",
      "3  Senior Natural Language Processing (NLP) Engin...   \n",
      "4  FLEXO FOLDER GLUER OPER - McClellan, CA - McCl...   \n",
      "\n",
      "                                                body  \\\n",
      "0  Quantitative Analyst - Boston, MA 02116\\nQuant...   \n",
      "1  Data Scientist - Mountain View, CA\\nGroundTrut...   \n",
      "2  Data Scientist - Seattle, WA\\nA Bachelor or Ma...   \n",
      "3  Senior Natural Language Processing (NLP) Engin...   \n",
      "4  FLEXO FOLDER GLUER OPER - McClellan, CA - McCl...   \n",
      "\n",
      "                                             bullets  \n",
      "0                                                 []  \n",
      "1  [\\nHelp senior members of the team to explore,...  \n",
      "2  [A Bachelor or Masters Degree in a highly quan...  \n",
      "3  [Join a small team creating a proprietary NLU ...  \n",
      "4                                                 []  \n"
     ]
    }
   ],
   "source": [
    "import pathlib\n",
    "import pandas as pd\n",
    "from bs4 import BeautifulSoup as bs\n",
    "\n",
    "cur_path = pathlib.Path()\n",
    "fileList = list(cur_path.glob('data/html_job_postings/*.html'))\n",
    "fileContents = []\n",
    "print(len(fileList))\n",
    "for fl in fileList:\n",
    "    with fl.open() as f:\n",
    "        fileContents.append(f.read())\n",
    "        # print(f.readline())\n",
    "\n",
    "# remove duplicates\n",
    "fileContents = list(dict.fromkeys(fileContents))\n",
    "print(len(fileContents))\n",
    "\n",
    "dataDictionary = {\n",
    "    \"title\": [],\n",
    "    \"body\": [],\n",
    "    \"bullets\": []\n",
    "}\n",
    "\n",
    "# parse documents with BeautifulSoup\n",
    "for fl in fileContents:\n",
    "    soup = bs(fl, features=\"lxml\")\n",
    "    dataDictionary[\"title\"].append(soup.find('title').text)\n",
    "    # print(title.text)\n",
    "    dataDictionary[\"body\"].append(soup.body.text)\n",
    "    # print(body.text)\n",
    "    bullets = soup.find_all(\"li\")\n",
    "    bulletList = []\n",
    "    for bullet in bullets:\n",
    "        bulletList.append(bullet.text)\n",
    "    dataDictionary[\"bullets\"].append(bulletList)\n",
    "\n",
    "# create DataFrame\n",
    "df = pd.DataFrame(dataDictionary, columns=[\"title\", \"body\", \"bullets\"])\n",
    "print(df.head())\n"
   ]
  },
  {
   "cell_type": "code",
   "execution_count": null,
   "metadata": {},
   "outputs": [],
   "source": []
  }
 ],
 "metadata": {
  "kernelspec": {
   "display_name": "Python 3.7 (postings)",
   "language": "python",
   "name": "postings"
  },
  "language_info": {
   "codemirror_mode": {
    "name": "ipython",
    "version": 3
   },
   "file_extension": ".py",
   "mimetype": "text/x-python",
   "name": "python",
   "nbconvert_exporter": "python",
   "pygments_lexer": "ipython3",
   "version": "3.7.6"
  }
 },
 "nbformat": 4,
 "nbformat_minor": 4
}
